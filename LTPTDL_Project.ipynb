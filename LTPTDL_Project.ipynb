{
 "cells": [
  {
   "cell_type": "markdown",
   "metadata": {
    "id": "e5elXP7LCaze"
   },
   "source": [
    "# Đọc dữ liệu"
   ]
  },
  {
   "cell_type": "code",
   "execution_count": 1,
   "metadata": {
    "id": "TRqnRHRLQYWh"
   },
   "outputs": [],
   "source": [
    "file_name = r'Graph (1).csv'"
   ]
  },
  {
   "cell_type": "code",
   "execution_count": 2,
   "metadata": {
    "id": "WYxpUkC274pz"
   },
   "outputs": [],
   "source": [
    "import pandas as pd\n",
    "\n",
    "# df_node = pd.read_excel(file_name,sheet_name='Nodes')\n",
    "df_edge = pd.read_csv(file_name)"
   ]
  },
  {
   "cell_type": "code",
   "execution_count": 3,
   "metadata": {
    "colab": {
     "base_uri": "https://localhost:8080/",
     "height": 206
    },
    "id": "6eFCYRiv80o1",
    "outputId": "fe9cd8c1-2ef0-4ede-9a76-7a3fc765471a"
   },
   "outputs": [],
   "source": [
    "# df_node.head()"
   ]
  },
  {
   "cell_type": "code",
   "execution_count": 4,
   "metadata": {
    "colab": {
     "base_uri": "https://localhost:8080/",
     "height": 206
    },
    "id": "zg1VP8iFQYWj",
    "outputId": "bb7bcfb3-bf54-4dfa-b751-21e739fe68a6"
   },
   "outputs": [
    {
     "data": {
      "text/html": [
       "<div>\n",
       "<style scoped>\n",
       "    .dataframe tbody tr th:only-of-type {\n",
       "        vertical-align: middle;\n",
       "    }\n",
       "\n",
       "    .dataframe tbody tr th {\n",
       "        vertical-align: top;\n",
       "    }\n",
       "\n",
       "    .dataframe thead th {\n",
       "        text-align: right;\n",
       "    }\n",
       "</style>\n",
       "<table border=\"1\" class=\"dataframe\">\n",
       "  <thead>\n",
       "    <tr style=\"text-align: right;\">\n",
       "      <th></th>\n",
       "      <th>v_from</th>\n",
       "      <th>v_to</th>\n",
       "      <th>weight</th>\n",
       "    </tr>\n",
       "  </thead>\n",
       "  <tbody>\n",
       "    <tr>\n",
       "      <th>0</th>\n",
       "      <td>A</td>\n",
       "      <td>C</td>\n",
       "      <td>9</td>\n",
       "    </tr>\n",
       "    <tr>\n",
       "      <th>1</th>\n",
       "      <td>A</td>\n",
       "      <td>F</td>\n",
       "      <td>20</td>\n",
       "    </tr>\n",
       "    <tr>\n",
       "      <th>2</th>\n",
       "      <td>A</td>\n",
       "      <td>D</td>\n",
       "      <td>7</td>\n",
       "    </tr>\n",
       "    <tr>\n",
       "      <th>3</th>\n",
       "      <td>A</td>\n",
       "      <td>E</td>\n",
       "      <td>13</td>\n",
       "    </tr>\n",
       "    <tr>\n",
       "      <th>4</th>\n",
       "      <td>C</td>\n",
       "      <td>H</td>\n",
       "      <td>6</td>\n",
       "    </tr>\n",
       "  </tbody>\n",
       "</table>\n",
       "</div>"
      ],
      "text/plain": [
       "  v_from v_to  weight\n",
       "0      A    C       9\n",
       "1      A    F      20\n",
       "2      A    D       7\n",
       "3      A    E      13\n",
       "4      C    H       6"
      ]
     },
     "execution_count": 4,
     "metadata": {},
     "output_type": "execute_result"
    }
   ],
   "source": [
    "df_edge.head()"
   ]
  },
  {
   "cell_type": "code",
   "execution_count": 5,
   "metadata": {
    "collapsed": true,
    "id": "_SeD_fD_P992"
   },
   "outputs": [],
   "source": [
    "import heapq\n",
    "import pandas as pd\n",
    "\n",
    "class Node:\n",
    "    def __init__(self, name, par=None, dist=float('inf')):\n",
    "        self.name = name        # Tên hoặc định danh của node\n",
    "        self.par = par          # Node cha (để truy vết lại đường đi)\n",
    "        self.dist = dist        # Khoảng cách từ node nguồn đến node hiện tại\n",
    "\n",
    "class Graph:\n",
    "    def __init__(self):\n",
    "        self.graph = {}  # Sử dụng dictionary để lưu trữ đồ thị\n",
    "\n",
    "        # Thêm các node vào đồ thị\n",
    "    def add_node(self, node):\n",
    "        self.graph[node.name] = node\n",
    "\n",
    "    def add_edge(self, u, v, weight):\n",
    "        # Thêm cạnh từ u đến v với trọng số weight\n",
    "        if u not in self.graph:\n",
    "            self.graph[u] = []\n",
    "        self.graph[u].append((v, weight))\n",
    "\n",
    "        # Đồ thị vô hướng, thêm cạnh ngược lại\n",
    "        if v not in self.graph:\n",
    "            self.graph[v] = []\n",
    "        self.graph[v].append((u, weight))\n",
    "\n",
    "    def get_neighbors(self, node):\n",
    "        # Lấy danh sách các đỉnh kề với node\n",
    "        return self.graph.get(node)\n",
    "\n",
    "    def display(self):\n",
    "        # Hiện thị graph\n",
    "        for node, neighbors in self.graph.items():\n",
    "            print(f\"{node}: {neighbors}\")\n",
    "\n",
    "class Dijkstra:\n",
    "    def __init__(self, graph):\n",
    "        self.graph = graph\n",
    "\n",
    "    def shortest_path(self, start):\n",
    "        distances = {node: float('inf') for node in self.graph.graph}\n",
    "        distances[start] = 0\n",
    "\n",
    "        priority_queue = [(0, start)]\n",
    "        visited = set()\n",
    "        parents = {node: None for node in self.graph.graph}  # Lưu trữ cha của mỗi node\n",
    "\n",
    "        while priority_queue:\n",
    "            current_distance, current_node = heapq.heappop(priority_queue)\n",
    "\n",
    "            if current_node in visited:\n",
    "                continue\n",
    "\n",
    "            visited.add(current_node)\n",
    "\n",
    "            for neighbor, weight in self.graph.get_neighbors(current_node):\n",
    "                distance = current_distance + weight\n",
    "\n",
    "                if distance < distances[neighbor]:\n",
    "                    distances[neighbor] = distance\n",
    "                    parents[neighbor] = current_node  # Cập nhật cha\n",
    "                    heapq.heappush(priority_queue, (distance, neighbor))\n",
    "\n",
    "        return distances, parents  # Trả về cả distances và parents\n",
    "def get_path(parents, target):\n",
    "      path = []\n",
    "      while target is not None:\n",
    "          path.append(target)\n",
    "          target = parents[target]\n",
    "      path.reverse()\n",
    "      return path\n"
   ]
  },
  {
   "cell_type": "code",
   "execution_count": 6,
   "metadata": {
    "id": "kfK1fww7QZl9"
   },
   "outputs": [],
   "source": [
    "import networkx as nx\n",
    "import matplotlib.pyplot as plt\n",
    "\n",
    "class GraphVisualizer:\n",
    "    def __init__(self, graph):\n",
    "        \"\"\"Initialize the visualizer with the graph structure.\"\"\"\n",
    "        self.graph = graph\n",
    "\n",
    "    def visualize(self, path=None):\n",
    "        \"\"\"Display the graph and optionally highlight a path.\"\"\"\n",
    "        G = nx.Graph()\n",
    "        for v_from in self.graph:\n",
    "            for v_to, weight in self.graph[v_from]:\n",
    "                G.add_edge(v_from, v_to, weight=weight)\n",
    "\n",
    "        position = nx.spring_layout(G, seed = 42)\n",
    "        plt.figure(figsize=(7, 7))\n",
    "\n",
    "        # Draw nodes and edges\n",
    "        node_color = [(0.77, 0.69, 1)] * len(G.nodes)\n",
    "        nx.draw_networkx_nodes(G, position, node_size=400, node_color=node_color)\n",
    "        nx.draw_networkx_edges(G, position, edgelist=G.edges(), width=1, alpha=0.5)\n",
    "        edge_labels = {(v_to, v_from): d['weight'] for v_to, v_from, d in G.edges(data=True)}\n",
    "        nx.draw_networkx_edge_labels(G, position, edge_labels=edge_labels, font_size=10)\n",
    "\n",
    "        # Draw labels\n",
    "        nx.draw_networkx_labels(G, position, font_size=12, font_color=(0.07, 0, 0.62))\n",
    "\n",
    "        # Highlight path if given\n",
    "        if path:\n",
    "            path_edges = list(zip(path, path[1:]))\n",
    "            edges_color = [(0.29, 0.26, 0.89)] * len(G.edges)\n",
    "            nx.draw_networkx_edges(G, position, edgelist=path_edges, width=3, edge_color=edges_color)\n",
    "            nx.draw_networkx_edge_labels(G, position, edge_labels=edge_labels, font_size=10)\n",
    "\n",
    "        plt.title('Đồ thị' + (' với đường đi ngắn nhất được tô màu' if path else ''))\n",
    "        plt.show();"
   ]
  },
  {
   "cell_type": "code",
   "execution_count": 7,
   "metadata": {
    "id": "5bUSw241BqJV"
   },
   "outputs": [],
   "source": [
    "# Tạo đồ thị từ DataFrame\n",
    "graph = Graph()\n",
    "\n",
    "for index, row in df_edge.iterrows():\n",
    "    graph.add_edge(row['v_from'], row['v_to'], row['weight'])\n",
    "\n",
    "dijkstra = Dijkstra(graph)\n",
    "\n",
    "# Tìm đường đi ngắn nhất từ A\n",
    "shortest_paths, parents = dijkstra.shortest_path('A')"
   ]
  },
  {
   "cell_type": "code",
   "execution_count": 8,
   "metadata": {
    "colab": {
     "base_uri": "https://localhost:8080/",
     "height": 636
    },
    "id": "ueM_uyBybl9R",
    "outputId": "7ad77e53-a653-40eb-8a1a-49df46d9a7cb"
   },
   "outputs": [
    {
     "data": {
      "image/png": "[encoded data removed]",
      "text/plain": [
       "<Figure size 700x700 with 1 Axes>"
      ]
     },
     "metadata": {},
     "output_type": "display_data"
    },
    {
     "name": "stdout",
     "output_type": "stream",
     "text": [
      "Chi phí đi từ A đến B: 19\n",
      "Đường đi: A -> D -> E -> I -> B\n"
     ]
    }
   ],
   "source": [
    "# In kết quả\n",
    "for node in shortest_paths:\n",
    "    path = get_path(parents, node)  # Get the actual path (list of nodes)\n",
    "    if node == 'B':\n",
    "        visualizer = GraphVisualizer(graph.graph)\n",
    "        visualizer.visualize(path=path)  # Pass the path (list of nodes)\n",
    "        print(f'Chi phí đi từ A đến {node}: {shortest_paths[node]}\\nĐường đi: {\" -> \".join(path)}')"
   ]
  },
  {
   "cell_type": "code",
   "execution_count": null,
   "metadata": {
    "id": "IERlPAMQb1cR"
   },
   "outputs": [],
   "source": []
  }
 ],
 "metadata": {
  "colab": {
   "provenance": []
  },
  "kernelspec": {
   "display_name": "Python 3",
   "language": "python",
   "name": "python3"
  },
  "language_info": {
   "codemirror_mode": {
    "name": "ipython",
    "version": 3
   },
   "file_extension": ".py",
   "mimetype": "text/x-python",
   "name": "python",
   "nbconvert_exporter": "python",
   "pygments_lexer": "ipython3",
   "version": "3.12.3"
  }
 },
 "nbformat": 4,
 "nbformat_minor": 0
}
