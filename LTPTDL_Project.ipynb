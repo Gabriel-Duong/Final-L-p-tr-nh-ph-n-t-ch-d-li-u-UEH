{
  "cells": [
    {
      "cell_type": "markdown",
      "metadata": {
        "id": "e5elXP7LCaze"
      },
      "source": [
        "# Đọc dữ liệu"
      ]
    },
    {
      "cell_type": "code",
      "execution_count": 137,
      "metadata": {},
      "outputs": [],
      "source": [
        "file_name = r'F:\\UEH\\Năm 3\\Lập trình phân tích dữ liệu\\Cuối kỳ\\Final-LTPTDL\\graph.xlsx'"
      ]
    },
    {
      "cell_type": "code",
      "execution_count": 138,
      "metadata": {
        "id": "WYxpUkC274pz"
      },
      "outputs": [],
      "source": [
        "import pandas as pd\n",
        "\n",
        "df_node = pd.read_excel(file_name,sheet_name='Nodes')\n",
        "df_edge = pd.read_excel(file_name,sheet_name='Edges')"
      ]
    },
    {
      "cell_type": "code",
      "execution_count": 139,
      "metadata": {
        "colab": {
          "base_uri": "https://localhost:8080/",
          "height": 206
        },
        "id": "6eFCYRiv80o1",
        "outputId": "a60fc176-6f2b-449b-dee7-72305c185776"
      },
      "outputs": [
        {
          "data": {
            "text/html": [
              "<div>\n",
              "<style scoped>\n",
              "    .dataframe tbody tr th:only-of-type {\n",
              "        vertical-align: middle;\n",
              "    }\n",
              "\n",
              "    .dataframe tbody tr th {\n",
              "        vertical-align: top;\n",
              "    }\n",
              "\n",
              "    .dataframe thead th {\n",
              "        text-align: right;\n",
              "    }\n",
              "</style>\n",
              "<table border=\"1\" class=\"dataframe\">\n",
              "  <thead>\n",
              "    <tr style=\"text-align: right;\">\n",
              "      <th></th>\n",
              "      <th>id</th>\n",
              "      <th>name_nodes</th>\n",
              "      <th>h</th>\n",
              "    </tr>\n",
              "  </thead>\n",
              "  <tbody>\n",
              "    <tr>\n",
              "      <th>0</th>\n",
              "      <td>0</td>\n",
              "      <td>A</td>\n",
              "      <td>14</td>\n",
              "    </tr>\n",
              "    <tr>\n",
              "      <th>1</th>\n",
              "      <td>1</td>\n",
              "      <td>B</td>\n",
              "      <td>0</td>\n",
              "    </tr>\n",
              "    <tr>\n",
              "      <th>2</th>\n",
              "      <td>2</td>\n",
              "      <td>C</td>\n",
              "      <td>15</td>\n",
              "    </tr>\n",
              "    <tr>\n",
              "      <th>3</th>\n",
              "      <td>3</td>\n",
              "      <td>D</td>\n",
              "      <td>6</td>\n",
              "    </tr>\n",
              "    <tr>\n",
              "      <th>4</th>\n",
              "      <td>4</td>\n",
              "      <td>E</td>\n",
              "      <td>8</td>\n",
              "    </tr>\n",
              "  </tbody>\n",
              "</table>\n",
              "</div>"
            ],
            "text/plain": [
              "   id name_nodes   h\n",
              "0   0          A  14\n",
              "1   1          B   0\n",
              "2   2          C  15\n",
              "3   3          D   6\n",
              "4   4          E   8"
            ]
          },
          "execution_count": 139,
          "metadata": {},
          "output_type": "execute_result"
        }
      ],
      "source": [
        "df_node.head()"
      ]
    },
    {
      "cell_type": "code",
      "execution_count": 140,
      "metadata": {},
      "outputs": [],
      "source": [
        "p = [(2, 3),(2, -3),(0, 2),(1, 1),(2.5, 0.5),(3, 2),(3.2, 0.5),(0, -2),(2.5, -2),(1, -1.5)]"
      ]
    },
    {
      "cell_type": "code",
      "execution_count": 141,
      "metadata": {
        "id": "_SeD_fD_P992"
      },
      "outputs": [],
      "source": [
        "import networkx as nx\n",
        "import matplotlib.pyplot as plt\n",
        "\n",
        "def create_graph(df_node,df_edge,direct = False):\n",
        "    if direct:\n",
        "        G = nx.DiGraph()\n",
        "    else:\n",
        "      G = nx.Graph()\n",
        "    # Thêm các đỉnh\n",
        "    nodes = df_node['name_nodes'].tolist()\n",
        "    G.add_nodes_from(nodes)\n",
        "    # Thêm các cạnh và trọng số\n",
        "    edges = [(row['node_start'], row['node_end'], row['weight']) for _, row in df_edge.iterrows()]\n",
        "    G.add_weighted_edges_from(edges)\n",
        "\n",
        "    # Tọa độ của các đỉnh\n",
        "    pos = {\n",
        "        nodes[i]:p[i] for i in range(len(nodes))\n",
        "    }\n",
        "    return G,pos"
      ]
    },
    {
      "cell_type": "code",
      "execution_count": 142,
      "metadata": {
        "id": "VL4BnvOH90dt"
      },
      "outputs": [],
      "source": [
        "graph,pos = create_graph(df_node,df_edge,direct=False)"
      ]
    },
    {
      "cell_type": "code",
      "execution_count": 143,
      "metadata": {
        "colab": {
          "base_uri": "https://localhost:8080/",
          "height": 539
        },
        "id": "TQtz09a89Lum",
        "outputId": "2c406d19-bb76-401b-b5b0-cbd47ef02aac"
      },
      "outputs": [
        {
          "data": {
            "image/png": "[encoded data removed]",
            "text/plain": [
              "<Figure size 640x480 with 1 Axes>"
            ]
          },
          "metadata": {},
          "output_type": "display_data"
        }
      ],
      "source": [
        "# Vẽ đồ thị\n",
        "nx.draw(graph, pos, with_labels=True, node_size=700, node_color='lightblue', font_size=10, font_weight='bold')\n",
        "edge_labels = nx.get_edge_attributes(graph, 'weight')\n",
        "nx.draw_networkx_edge_labels(graph, pos, edge_labels=edge_labels)\n",
        "\n",
        "# Hiển thị đồ thị\n",
        "plt.title(\"Đồ thị từ bài toán\")\n",
        "plt.axis('on')  # Giữ tỷ lệ giữa các trục\n",
        "plt.show()\n"
      ]
    },
    {
      "cell_type": "markdown",
      "metadata": {
        "id": "XV01oiy41CkU"
      },
      "source": [
        "# Hàm trả về đường đi"
      ]
    },
    {
      "cell_type": "code",
      "execution_count": 144,
      "metadata": {
        "id": "vqaZ88iG7sV4"
      },
      "outputs": [],
      "source": [
        "def path(distances,start, end):\n",
        "    # Lưu đường đi từ đích tới điểm bắt đầu\n",
        "    path = []\n",
        "    # Node đầu tiên là đích\n",
        "    node = end\n",
        "    # Duyệt cho tới khi về lại điểm bắt đầu\n",
        "    while node != start:\n",
        "        path.append(node)\n",
        "    # Node tiếp theo là node có gần node trước đó\n",
        "        node = distances[node][1]\n",
        "    # Thêm node bắt đầu\n",
        "    path.append(start)\n",
        "    # Đảo ngược danh sách để có đường đi từ điểm bắt đầu tới đích\n",
        "    path = [str(x) for x in path[::-1]]\n",
        "    p = ' -> '.join(path)\n",
        "    # Chi phí tới đỉnh đích\n",
        "    cost = distances[end][0]\n",
        "    print(f'Path: {p}')\n",
        "    print(f'Cost: {cost}')\n",
        "    return"
      ]
    },
    {
      "cell_type": "markdown",
      "metadata": {
        "id": "kVzUAM1FCXQA"
      },
      "source": [
        "# Thuật toán Dijkstra"
      ]
    },
    {
      "cell_type": "code",
      "execution_count": 145,
      "metadata": {
        "collapsed": true,
        "id": "AJhgvuKzSvR2"
      },
      "outputs": [],
      "source": [
        "import heapq\n",
        "\n",
        "def dijkstra(graph, start, end):\n",
        "    # Khởi tạo khoảng cách từ đỉnh bắt đầu đến tất cả các đỉnh\n",
        "    L = {node: (float('infinity'), None) for node in graph.nodes}\n",
        "    # Khoảng cách từ đỉnh bắt đầu đến chính nó là 0\n",
        "    L[start] = (0, start)\n",
        "    \n",
        "    # Khởi tạo danh sách khoảng cách\n",
        "    open_list = [(0, start)]\n",
        "    \n",
        "    # Danh sách các đỉnh đã duyệt\n",
        "    closed = set()  # Sử dụng set để kiểm tra nhanh hơn\n",
        "\n",
        "    while open_list:\n",
        "        current_distance, current_node = heapq.heappop(open_list)\n",
        "        closed.add(current_node)\n",
        "\n",
        "        # Nếu đã đến đỉnh kết thúc, dừng lại\n",
        "        if current_node == end:\n",
        "            break\n",
        "\n",
        "        # Duyệt qua các cạnh của đỉnh hiện tại\n",
        "        for neighbor in graph.neighbors(current_node):\n",
        "            if neighbor in closed:\n",
        "                continue\n",
        "            # Tính khoảng cách từ đỉnh hiện tại đến đỉnh láng giềng\n",
        "            distance = current_distance + graph[current_node][neighbor]['weight']\n",
        "\n",
        "            # Nếu khoảng cách mới nhỏ hơn khoảng cách đã tìm thấy, cập nhật\n",
        "            if distance < L[neighbor][0]:\n",
        "                L[neighbor] = (distance, current_node)\n",
        "                open_list = [(distance, neighbor) if node == neighbor else (f, node) for f, node in open_list]\n",
        "                heapq.heappush(open_list, (distance, neighbor))\n",
        "                heapq.heapify(open_list)\n",
        "\n",
        "        print(L)\n",
        "        print(open_list)\n",
        "        print(closed)\n",
        "        print('-' * 40)\n",
        "\n",
        "    return L"
      ]
    },
    {
      "cell_type": "code",
      "execution_count": 146,
      "metadata": {},
      "outputs": [
        {
          "name": "stdout",
          "output_type": "stream",
          "text": [
            "{'A': (0, 'A'), 'B': (inf, None), 'C': (9, 'A'), 'D': (7, 'A'), 'E': (13, 'A'), 'F': (20, 'A'), 'G': (inf, None), 'H': (inf, None), 'K': (inf, None), 'I': (inf, None)}\n",
            "[(7, 'D'), (13, 'E'), (9, 'C'), (20, 'F')]\n",
            "{'A'}\n",
            "----------------------------------------\n",
            "{'A': (0, 'A'), 'B': (inf, None), 'C': (9, 'A'), 'D': (7, 'A'), 'E': (11, 'D'), 'F': (20, 'A'), 'G': (inf, None), 'H': (15, 'D'), 'K': (inf, None), 'I': (inf, None)}\n",
            "[(9, 'C'), (11, 'E'), (20, 'F'), (15, 'H'), (11, 'E')]\n",
            "{'A', 'D'}\n",
            "----------------------------------------\n",
            "{'A': (0, 'A'), 'B': (inf, None), 'C': (9, 'A'), 'D': (7, 'A'), 'E': (11, 'D'), 'F': (20, 'A'), 'G': (inf, None), 'H': (15, 'D'), 'K': (inf, None), 'I': (inf, None)}\n",
            "[(11, 'E'), (11, 'E'), (20, 'F'), (15, 'H')]\n",
            "{'C', 'A', 'D'}\n",
            "----------------------------------------\n",
            "{'A': (0, 'A'), 'B': (inf, None), 'C': (9, 'A'), 'D': (7, 'A'), 'E': (11, 'D'), 'F': (20, 'A'), 'G': (inf, None), 'H': (15, 'D'), 'K': (15, 'E'), 'I': (14, 'E')}\n",
            "[(11, 'E'), (14, 'I'), (20, 'F'), (15, 'K'), (15, 'H')]\n",
            "{'C', 'A', 'E', 'D'}\n",
            "----------------------------------------\n",
            "{'A': (0, 'A'), 'B': (inf, None), 'C': (9, 'A'), 'D': (7, 'A'), 'E': (11, 'D'), 'F': (20, 'A'), 'G': (inf, None), 'H': (15, 'D'), 'K': (15, 'E'), 'I': (14, 'E')}\n",
            "[(14, 'I'), (15, 'H'), (20, 'F'), (15, 'K')]\n",
            "{'C', 'A', 'E', 'D'}\n",
            "----------------------------------------\n",
            "{'A': (0, 'A'), 'B': (19, 'I'), 'C': (9, 'A'), 'D': (7, 'A'), 'E': (11, 'D'), 'F': (20, 'A'), 'G': (inf, None), 'H': (15, 'D'), 'K': (15, 'E'), 'I': (14, 'E')}\n",
            "[(15, 'H'), (15, 'K'), (20, 'F'), (19, 'B')]\n",
            "{'I', 'E', 'C', 'D', 'A'}\n",
            "----------------------------------------\n",
            "{'A': (0, 'A'), 'B': (19, 'I'), 'C': (9, 'A'), 'D': (7, 'A'), 'E': (11, 'D'), 'F': (20, 'A'), 'G': (inf, None), 'H': (15, 'D'), 'K': (15, 'E'), 'I': (14, 'E')}\n",
            "[(15, 'K'), (19, 'B'), (20, 'F')]\n",
            "{'H', 'I', 'E', 'C', 'D', 'A'}\n",
            "----------------------------------------\n",
            "{'A': (0, 'A'), 'B': (19, 'I'), 'C': (9, 'A'), 'D': (7, 'A'), 'E': (11, 'D'), 'F': (20, 'A'), 'G': (inf, None), 'H': (15, 'D'), 'K': (15, 'E'), 'I': (14, 'E')}\n",
            "[(19, 'B'), (20, 'F')]\n",
            "{'K', 'H', 'I', 'E', 'C', 'D', 'A'}\n",
            "----------------------------------------\n",
            "Path: A -> D -> E -> I -> B\n",
            "Cost: 19\n"
          ]
        }
      ],
      "source": [
        "path(dijkstra(graph, 'A','B'),'A','B')"
      ]
    },
    {
      "cell_type": "markdown",
      "metadata": {
        "id": "kP4t-UNsM37h"
      },
      "source": [
        "# A*"
      ]
    },
    {
      "cell_type": "code",
      "execution_count": 147,
      "metadata": {
        "id": "lfebOMB5RmMv"
      },
      "outputs": [],
      "source": [
        "# Heuristic\n",
        "h = df_node.set_index('name_nodes')['h'].to_dict()"
      ]
    },
    {
      "cell_type": "code",
      "execution_count": 148,
      "metadata": {
        "colab": {
          "base_uri": "https://localhost:8080/"
        },
        "id": "F_BPluIbysps",
        "outputId": "58b96ebf-2a4e-4788-8fa2-74c55d995025"
      },
      "outputs": [],
      "source": [
        "g,pos = create_graph(df_node,df_edge,direct=True)"
      ]
    },
    {
      "cell_type": "code",
      "execution_count": 149,
      "metadata": {},
      "outputs": [
        {
          "data": {
            "image/png": "[encoded data removed]",
            "text/plain": [
              "<Figure size 640x480 with 1 Axes>"
            ]
          },
          "metadata": {},
          "output_type": "display_data"
        }
      ],
      "source": [
        "import matplotlib.pyplot as plt\n",
        "import networkx as nx\n",
        "\n",
        "# Vẽ đồ thị\n",
        "nx.draw(g, pos, with_labels=False, node_size=700, node_color='lightblue', font_size=10, font_weight='bold')\n",
        "\n",
        "# Thêm nhãn cho các đỉnh, bao gồm cả heuristic\n",
        "node_labels = {node: f\"{node}\\n({h[node]})\" for node in h.keys()}\n",
        "nx.draw_networkx_labels(g, pos, labels=node_labels, font_size=10, font_weight='bold')\n",
        "\n",
        "# Vẽ nhãn cho các cạnh\n",
        "edge_labels = nx.get_edge_attributes(graph, 'weight')\n",
        "nx.draw_networkx_edge_labels(g, pos, edge_labels=edge_labels)\n",
        "\n",
        "# Hiển thị đồ thị\n",
        "plt.title(\"Đồ thị từ bài toán\")\n",
        "plt.axis('on')  # Giữ tỷ lệ giữa các trục\n",
        "plt.show()\n"
      ]
    },
    {
      "cell_type": "code",
      "execution_count": 150,
      "metadata": {
        "id": "yXCmw9Pq1uRE"
      },
      "outputs": [],
      "source": [
        "def Astar(graph,start,end,heuristic):\n",
        "# Khởi tạo khoảng cách từ đỉnh bắt đầu đến tất cả các đỉnh\n",
        "    g_distances = {node: (float('inf'), None) for node in graph.nodes}\n",
        "    g_distances[start] = (0, start)  # Khoảng cách từ start đến chính nó\n",
        "    # Khởi tạo danh sách trạng thái\n",
        "    open_list = []\n",
        "    # Danh sách các đỉnh đã duyệt\n",
        "    closed_list = set()\n",
        "    # Thêm nút bắt đầu vào open_list\n",
        "    heapq.heappush(open_list, (0 + heuristic[start], start))  # f = g + h\n",
        "    while open_list:\n",
        "      # Chọn node trong open list\n",
        "        current_f,current_node = heapq.heappop(open_list)\n",
        "      # Di chuyển node vào closed list\n",
        "        closed_list.add(current_node)\n",
        "        print(current_node, current_f)\n",
        "\n",
        "        if current_node == end:\n",
        "            print(open_list)\n",
        "            print(g_distances)\n",
        "            print('-'*40)\n",
        "            print('Đã tìm thấy đường đi:')\n",
        "            path(distances=g_distances,start=start,end=end)\n",
        "            break\n",
        "        else:\n",
        "            for neighbor in graph.neighbors(current_node):\n",
        "            # Tính khoảng cách từ đỉnh hiện tại đến đỉnh láng giềng\n",
        "                # g(v) = g(u)+(u,v)\n",
        "              g = g_distances[current_node][0] + graph[current_node][neighbor]['weight']\n",
        "              h = heuristic[neighbor]\n",
        "              # f(v) = g(v) + h(v)\n",
        "              f = g + h  \n",
        "              if neighbor in [node for node in closed_list]:\n",
        "                 # Nếu nút nằm trong closed_list thì bỏ qua\n",
        "                 continue\n",
        "              # Kiểm tra xem node(v) kề có nằm trong open_list hay chưa\n",
        "              if neighbor not in [node for _, node in open_list]: # chưa\n",
        "              # Thêm node kề và f vào\n",
        "                heapq.heappush(open_list,(f,neighbor))\n",
        "              # Lưu lại g(v)\n",
        "                g_distances[neighbor] = (g,current_node)\n",
        "              else:\n",
        "                # Nếu node(v) trong open_list\n",
        "                # Nều mà g(v) mới tốt hơn (bé hơn) g(v) cũ thì cập nhật\n",
        "                if g < g_distances[neighbor][0]:\n",
        "                    g_distances[neighbor] = (g, current_node)\n",
        "                    # Cập nhật lại f trong open_list\n",
        "                    # Không thể cập nhật f trực tiếp, cần xóa và thêm lại\n",
        "                    open_list = [(f, neighbor) if node == neighbor else (f_node, node) for f_node, node in open_list]\n",
        "                    # Gọi heapq.heapify() để tái cấu trúc danh sách thành heap\n",
        "                    heapq.heapify(open_list)\n",
        "        if not open_list:\n",
        "            print('Không tìm thấy đường đi:')\n",
        "            break\n",
        "        print(open_list) # lưu f()\n",
        "        print(g_distances) # lưu g()\n",
        "        print('-'*40)\n",
        "    return"
      ]
    },
    {
      "cell_type": "code",
      "execution_count": 151,
      "metadata": {
        "colab": {
          "base_uri": "https://localhost:8080/"
        },
        "id": "aCon4lwrU-mc",
        "outputId": "8cb3fbc1-b353-4237-fabf-ec2e4c3b346b"
      },
      "outputs": [
        {
          "name": "stdout",
          "output_type": "stream",
          "text": [
            "A 14\n",
            "[(13, 'D'), (21, 'E'), (24, 'C'), (27, 'F')]\n",
            "{'A': (0, 'A'), 'B': (inf, None), 'C': (9, 'A'), 'D': (7, 'A'), 'E': (13, 'A'), 'F': (20, 'A'), 'G': (inf, None), 'H': (inf, None), 'K': (inf, None), 'I': (inf, None)}\n",
            "----------------------------------------\n",
            "D 13\n",
            "[(19, 'E'), (25, 'H'), (24, 'C'), (27, 'F')]\n",
            "{'A': (0, 'A'), 'B': (inf, None), 'C': (9, 'A'), 'D': (7, 'A'), 'E': (11, 'D'), 'F': (20, 'A'), 'G': (inf, None), 'H': (15, 'D'), 'K': (inf, None), 'I': (inf, None)}\n",
            "----------------------------------------\n",
            "E 19\n",
            "[(17, 'K'), (18, 'I'), (27, 'F'), (25, 'H'), (24, 'C')]\n",
            "{'A': (0, 'A'), 'B': (inf, None), 'C': (9, 'A'), 'D': (7, 'A'), 'E': (11, 'D'), 'F': (20, 'A'), 'G': (inf, None), 'H': (15, 'D'), 'K': (15, 'E'), 'I': (14, 'E')}\n",
            "----------------------------------------\n",
            "K 17\n",
            "[(18, 'I'), (21, 'B'), (27, 'F'), (25, 'H'), (24, 'C')]\n",
            "{'A': (0, 'A'), 'B': (21, 'K'), 'C': (9, 'A'), 'D': (7, 'A'), 'E': (11, 'D'), 'F': (20, 'A'), 'G': (inf, None), 'H': (15, 'D'), 'K': (15, 'E'), 'I': (14, 'E')}\n",
            "----------------------------------------\n",
            "I 18\n",
            "[(19, 'B'), (24, 'C'), (27, 'F'), (25, 'H')]\n",
            "{'A': (0, 'A'), 'B': (19, 'I'), 'C': (9, 'A'), 'D': (7, 'A'), 'E': (11, 'D'), 'F': (20, 'A'), 'G': (inf, None), 'H': (15, 'D'), 'K': (15, 'E'), 'I': (14, 'E')}\n",
            "----------------------------------------\n",
            "B 19\n",
            "[(24, 'C'), (25, 'H'), (27, 'F')]\n",
            "{'A': (0, 'A'), 'B': (19, 'I'), 'C': (9, 'A'), 'D': (7, 'A'), 'E': (11, 'D'), 'F': (20, 'A'), 'G': (inf, None), 'H': (15, 'D'), 'K': (15, 'E'), 'I': (14, 'E')}\n",
            "----------------------------------------\n",
            "Đã tìm thấy đường đi:\n",
            "Path: A -> D -> E -> I -> B\n",
            "Cost: 19\n"
          ]
        }
      ],
      "source": [
        "Astar(g, 'A','B',h)"
      ]
    },
    {
      "cell_type": "code",
      "execution_count": null,
      "metadata": {},
      "outputs": [],
      "source": []
    }
  ],
  "metadata": {
    "colab": {
      "provenance": []
    },
    "kernelspec": {
      "display_name": "cuda_test",
      "language": "python",
      "name": "python3"
    },
    "language_info": {
      "codemirror_mode": {
        "name": "ipython",
        "version": 3
      },
      "file_extension": ".py",
      "mimetype": "text/x-python",
      "name": "python",
      "nbconvert_exporter": "python",
      "pygments_lexer": "ipython3",
      "version": "3.12.3"
    }
  },
  "nbformat": 4,
  "nbformat_minor": 0
}
