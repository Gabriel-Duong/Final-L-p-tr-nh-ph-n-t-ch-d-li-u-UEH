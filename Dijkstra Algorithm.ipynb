{
 "cells": [
  {
   "cell_type": "code",
   "execution_count": 29,
   "metadata": {},
   "outputs": [],
   "source": [
    "folder = r'D:\\Tài liệu học tập\\UEH\\Năm 3\\HKC - 2024\\Lập trình phân tích dữ liệu\\Đồ án'"
   ]
  },
  {
   "cell_type": "code",
   "execution_count": 30,
   "metadata": {},
   "outputs": [],
   "source": [
    "## Các thư viện\n",
    "import pandas as pd\n",
    "import heapq\n",
    "import networkx as nx\n",
    "import matplotlib.pyplot as plt"
   ]
  }
 ],
 "metadata": {
  "language_info": {
   "name": "python"
  }
 },
 "nbformat": 4,
 "nbformat_minor": 2
}
