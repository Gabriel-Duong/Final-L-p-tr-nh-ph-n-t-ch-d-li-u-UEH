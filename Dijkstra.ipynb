{
 "cells": [
  {
   "cell_type": "code",
   "execution_count": 2,
   "metadata": {},
   "outputs": [
    {
     "name": "stdout",
     "output_type": "stream",
     "text": [
      "Collecting networkxNote: you may need to restart the kernel to use updated packages.\n",
      "\n",
      "  Downloading networkx-3.4.2-py3-none-any.whl.metadata (6.3 kB)\n",
      "Downloading networkx-3.4.2-py3-none-any.whl (1.7 MB)\n",
      "   ---------------------------------------- 0.0/1.7 MB ? eta -:--:--\n",
      "   ---------------------------------------- 0.0/1.7 MB ? eta -:--:--\n",
      "    --------------------------------------- 0.0/1.7 MB 495.5 kB/s eta 0:00:04\n",
      "   --- ------------------------------------ 0.1/1.7 MB 1.2 MB/s eta 0:00:02\n",
      "   ------- -------------------------------- 0.3/1.7 MB 2.1 MB/s eta 0:00:01\n",
      "   ---------------- ----------------------- 0.7/1.7 MB 3.5 MB/s eta 0:00:01\n",
      "   ------------------- -------------------- 0.8/1.7 MB 3.4 MB/s eta 0:00:01\n",
      "   ------------------------------------- -- 1.6/1.7 MB 5.4 MB/s eta 0:00:01\n",
      "   ---------------------------------------  1.7/1.7 MB 5.7 MB/s eta 0:00:01\n",
      "   ---------------------------------------  1.7/1.7 MB 5.7 MB/s eta 0:00:01\n",
      "   ---------------------------------------  1.7/1.7 MB 5.7 MB/s eta 0:00:01\n",
      "   ---------------------------------------  1.7/1.7 MB 5.7 MB/s eta 0:00:01\n",
      "   ---------------------------------------  1.7/1.7 MB 5.7 MB/s eta 0:00:01\n",
      "   ---------------------------------------  1.7/1.7 MB 5.7 MB/s eta 0:00:01\n",
      "   ---------------------------------------  1.7/1.7 MB 3.0 MB/s eta 0:00:01\n",
      "   ---------------------------------------- 1.7/1.7 MB 2.7 MB/s eta 0:00:00\n",
      "Installing collected packages: networkx\n",
      "Successfully installed networkx-3.4.2\n"
     ]
    },
    {
     "name": "stderr",
     "output_type": "stream",
     "text": [
      "\n",
      "[notice] A new release of pip is available: 24.0 -> 24.3.1\n",
      "[notice] To update, run: python.exe -m pip install --upgrade pip\n"
     ]
    }
   ],
   "source": [
    "pip install networkx"
   ]
  },
  {
   "cell_type": "code",
   "execution_count": 3,
   "metadata": {},
   "outputs": [],
   "source": [
    "#import các thư viện cần thiết \n",
    "import numpy as np \n",
    "import pandas as pd\n",
    "import heapq\n",
    "import networkx as nx\n",
    "import matplotlib.pyplot as plt"
   ]
  },
  {
   "cell_type": "code",
   "execution_count": 29,
   "metadata": {},
   "outputs": [],
   "source": [
    "class Graph: \n",
    "    def __init__(self):\n",
    "        \"\"\"Khởi tạo đồ thị với danh sách kề rỗng\"\"\"\n",
    "        self.graph = {}\n",
    "    \n",
    "    def load_csv (self, filename):\n",
    "        \"\"\"\n",
    "        Đọc đồ thị từ file csv\n",
    "        Mỗi dòng bao gồm (v_from, v_to, weight)\n",
    "\n",
    "        \"\"\"\n",
    "        graph_csv = pd.read_csv(filename)\n",
    "        for _, row in graph_csv.iterrows(): \n",
    "            #Sử dụng iterrows để truy cập các cột theo tên để không bị lỗi chuyển thành int\n",
    "            v_from = row['v_from']\n",
    "            v_to = row['v_to']\n",
    "            weight = row['weight']\n",
    "\n",
    "            #Đồ thị VÔ HƯỚNG nên khi thêm cạnh vào đồ thị thì phải thêm cả HAI CHIỀU\n",
    "            print(f\"Adding edge from {v_from} to {v_to} with weight {weight}\")  # Debug line\n",
    "            self.add_edge(v_from, v_to, weight)\n",
    "    \n",
    "    def add_edge (self, v_from, v_to, weight):\n",
    "        \"\"\" \n",
    "        Thêm cạnh vào danh sách kề của đồ thị \n",
    "        Nếu đỉnh chưa tồn tại trong danh sách kề thì tạo một danh sách kề mới\n",
    "        \"\"\"\n",
    "        if v_from not in self.graph:\n",
    "            self.graph[v_from] = []\n",
    "\n",
    "        if v_to not in self.graph:\n",
    "            self.graph[v_to] = []\n",
    "        \n",
    "        #Thêm cạnh HAI CHIỀU vì là đồ thị VÔ HƯỚNG \n",
    "        self.graph[v_from].append((v_to, weight))\n",
    "        self.graph[v_to].append((v_from, weight))\n",
    "    \n",
    "    def Dijkstra(self, start, end):\n",
    "        \n",
    "        dist = {node: (float('inf'), None) for node in self.graph}  \n",
    "        \n",
    "        dist[start] = (0, None)\n",
    "        \n",
    "        #Danh sách khoảng cách\n",
    "        list_dist = [(0, start)] #(Khoảng cách, đỉnh)\n",
    "\n",
    "        #Danh sách đỉnh đã duyệt\n",
    "        closed = set()\n",
    "\n",
    "        while list_dist:\n",
    "            current_dist, current_node = heapq.heappop(list_dist)\n",
    "            closed.add(current_node)\n",
    "\n",
    "            #Nếu khoảng cách hiện tại (current_dist) lớn hơn khoảng cách đã duyệt -> bỏ qua nó\n",
    "            if current_dist > dist[current_node][0]:\n",
    "                continue\n",
    "            \n",
    "            #Duyệt qua các cạnh của đỉnh hiện tại \n",
    "            for neighbor, weight in self.graph[current_node]:\n",
    "                if neighbor not in closed: \n",
    "                    #Tính khoảng cách từ đỉnh hiện tại đến láng giềng\n",
    "                    new_dist = current_dist + weight\n",
    "            \n",
    "                    #Nếu khoảng cách mới nhỏ hơn khoảng cách đã tìm thấy -> cập nhật \n",
    "                    if new_dist < dist[neighbor][0]:\n",
    "                        dist[neighbor] = (new_dist, current_node)\n",
    "                        heapq.heappush(list_dist, (new_dist, neighbor))\n",
    "        \n",
    "        return dist\n",
    "    \n",
    "    def path(self, distance, start, end):\n",
    "        #Lưu đường đi từ đích đến điểm bắt đầu \n",
    "        path = []\n",
    "        node = end #node đầu tiên là điểm đích \n",
    "        \n",
    "        while node is not None:\n",
    "            path.append(node)\n",
    "            node = distance[node][1]\n",
    "\n",
    "        #Đảo ngược danh sách để danh sách từ start -> end\n",
    "        path = path[::-1]\n",
    "\n",
    "        path_str = '->'.join(map(str, path)) #Thêm mũi tên vào danh sách\n",
    "\n",
    "        #Chi phí tới điểm đích \n",
    "        cost = distance[end][0]\n",
    "\n",
    "        return path_str, cost\n",
    "\n",
    "    def print_shortest_path(self, start, end):\n",
    "        distance = self.Dijkstra(start, end)\n",
    "\n",
    "        if distance[end][0] == float('inf'): \n",
    "            print(f'Không có đường đi từ {start} đến {end}.')\n",
    "\n",
    "        else:\n",
    "            path_str, cost = self.path(distance, start, end)\n",
    "            print(f'Đường đi ngắn nhất từ {start} đến {end} là: {path_str}')\n",
    "            print(f'Chi phí đường đi là: {cost}')"
   ]
  },
  {
   "cell_type": "code",
   "execution_count": null,
   "metadata": {},
   "outputs": [
    {
     "name": "stdout",
     "output_type": "stream",
     "text": [
      "Adding edge from A to C with weight 9\n",
      "Adding edge from A to F with weight 20\n",
      "Adding edge from A to D with weight 7\n",
      "Adding edge from A to E with weight 13\n",
      "Adding edge from C to H with weight 6\n",
      "Adding edge from D to H with weight 8\n",
      "Adding edge from D to E with weight 4\n",
      "Adding edge from E to K with weight 4\n",
      "Adding edge from E to I with weight 3\n",
      "Adding edge from F to I with weight 6\n",
      "Adding edge from F to G with weight 4\n",
      "Adding edge from H to K with weight 5\n",
      "Adding edge from K to B with weight 6\n",
      "Adding edge from I to K with weight 9\n",
      "Adding edge from I to B with weight 5\n"
     ]
    }
   ],
   "source": [
    "graph = Graph()\n",
    "graph.load_csv(r'C:\\Users\\ASUS\\Documents\\GitHub\\Final-LTPTDL\\Graph.csv')"
   ]
  },
  {
   "cell_type": "code",
   "execution_count": 32,
   "metadata": {},
   "outputs": [
    {
     "name": "stdout",
     "output_type": "stream",
     "text": [
      "Đường đi ngắn nhất từ B đến F là: B->I->F\n",
      "Chi phí đường đi là: 11\n"
     ]
    }
   ],
   "source": [
    "start = 'B'\n",
    "end = 'F'\n",
    "\n",
    "graph.print_shortest_path(start, end)"
   ]
  }
 ],
 "metadata": {
  "kernelspec": {
   "display_name": "Python 3",
   "language": "python",
   "name": "python3"
  },
  "language_info": {
   "codemirror_mode": {
    "name": "ipython",
    "version": 3
   },
   "file_extension": ".py",
   "mimetype": "text/x-python",
   "name": "python",
   "nbconvert_exporter": "python",
   "pygments_lexer": "ipython3",
   "version": "3.12.3"
  }
 },
 "nbformat": 4,
 "nbformat_minor": 2
}
