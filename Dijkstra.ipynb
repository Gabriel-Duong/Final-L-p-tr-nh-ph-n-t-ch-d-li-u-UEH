{
 "cells": [
  {
   "cell_type": "code",
   "execution_count": 3,
   "metadata": {},
   "outputs": [],
   "source": [
    "#import các thư viện cần thiết \n",
    "import numpy as np \n",
    "import pandas as pd\n",
    "import heapq"
   ]
  },
  {
   "cell_type": "code",
   "execution_count": null,
   "metadata": {},
   "outputs": [],
   "source": [
    "class Graph: \n",
    "    def __init__(self):\n",
    "        \"\"\"Khởi tạo đồ thị với danh sách kề rỗng\"\"\"\n",
    "        self.graph = {}\n",
    "    \n",
    "    def load_csv (self, filename):\n",
    "        \"\"\"\n",
    "        Đọc đồ thị từ file csv\n",
    "        Mỗi dòng bao gồm (v_from, v_to, weight)\n",
    "\n",
    "        \"\"\"\n",
    "        with open(filename, mode = 'r') as file: \n",
    "            graph_csv = pd.read_csv(file)\n",
    "            next(graph_csv) #Bỏ qua dòng tiêu đề (v_from, v_to, weight)\n",
    "            for row in graph_csv:\n",
    "                v_from, v_to, weight = int(row[0]), int(row[1]), int(row[2])\n",
    "\n",
    "                #Đồ thị VÔ HƯỚNG nên khi thêm cạnh vào đồ thị thì phải thêm cả HAI CHIỀU\n",
    "                self.add_edge(v_from, v_to, weight)\n",
    "    \n",
    "    def add_edge (self, v_from, v_to, weight):\n",
    "        \"\"\" \n",
    "        Thêm cạnh vào danh sách kề của đồ thị \n",
    "        Nếu đỉnh chưa tồn tại trong danh sách kề thì tạo một danh sách kề mới\n",
    "        \"\"\"\n",
    "        if v_from not in self.graph:\n",
    "            self.graph[v_from] = []\n",
    "\n",
    "        if v_to not in self.graph:\n",
    "            self.graph[v_to] = []\n",
    "        \n",
    "        #Thêm cạnh HAI CHIỀU vì là đồ thị VÔ HƯỚNG \n",
    "        self.graph[v_from].append((v_to, weight))\n",
    "        self.graph[v_to].append((v_from, weight))\n",
    "    \n",
    "    def Dijkstra(self, start, end):\n",
    "        \"\"\" \n",
    "        Tìm đường đi ngắn nhất từ đỉnh bắt đầu (start) đến đỉnh kết thúc (end)\n",
    "        \n",
    "        Trả về:\n",
    "        -Đường đi ngắn nhất \n",
    "        -Tổng trọng số của đường đi\n",
    "\n",
    "        \"\"\"\n",
    "    "
   ]
  },
  {
   "cell_type": "code",
   "execution_count": null,
   "metadata": {},
   "outputs": [],
   "source": [
    "'C:\\Users\\ASUS\\Documents\\GitHub\\Final-LTPTDL\\Graph.csv'"
   ]
  }
 ],
 "metadata": {
  "kernelspec": {
   "display_name": "Python 3",
   "language": "python",
   "name": "python3"
  },
  "language_info": {
   "codemirror_mode": {
    "name": "ipython",
    "version": 3
   },
   "file_extension": ".py",
   "mimetype": "text/x-python",
   "name": "python",
   "nbconvert_exporter": "python",
   "pygments_lexer": "ipython3",
   "version": "3.12.3"
  }
 },
 "nbformat": 4,
 "nbformat_minor": 2
}
